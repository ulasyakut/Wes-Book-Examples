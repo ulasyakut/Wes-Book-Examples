{
 "cells": [
  {
   "cell_type": "code",
   "execution_count": 99,
   "id": "a7fc9247-50b0-4ce5-9cb6-aba66755ef80",
   "metadata": {},
   "outputs": [],
   "source": [
    "import pandas as pd\n",
    "import seaborn as sns\n",
    "import numpy as np"
   ]
  },
  {
   "cell_type": "markdown",
   "id": "288c21b8-c6e6-47ee-a265-5acc5221f633",
   "metadata": {},
   "source": [
    "13.1"
   ]
  },
  {
   "cell_type": "code",
   "execution_count": 23,
   "id": "050b56d8-d4ae-431f-b379-d8f515266627",
   "metadata": {},
   "outputs": [],
   "source": [
    "path = 'bitly_usagov/example.txt'"
   ]
  },
  {
   "cell_type": "code",
   "execution_count": 24,
   "id": "10bc580e-5cf5-4c89-a9f0-36039b800e3d",
   "metadata": {},
   "outputs": [
    {
     "name": "stdout",
     "output_type": "stream",
     "text": [
      "{ \"a\": \"Mozilla\\/5.0 (Windows NT 6.1; WOW64) AppleWebKit\\/535.11 (KHTML, like Gecko) Chrome\\/17.0.963.78 Safari\\/535.11\", \"c\": \"US\", \"nk\": 1, \"tz\": \"America\\/New_York\", \"gr\": \"MA\", \"g\": \"A6qOVH\", \"h\": \"wfLQtf\", \"l\": \"orofrog\", \"al\": \"en-US,en;q=0.8\", \"hh\": \"1.usa.gov\", \"r\": \"http:\\/\\/www.facebook.com\\/l\\/7AQEFzjSi\\/1.usa.gov\\/wfLQtf\", \"u\": \"http:\\/\\/www.ncbi.nlm.nih.gov\\/pubmed\\/22415991\", \"t\": 1331923247, \"hc\": 1331822918, \"cy\": \"Danvers\", \"ll\": [ 42.576698, -70.954903 ] }\n",
      "\n"
     ]
    }
   ],
   "source": [
    "with open(path) as f:\n",
    "    print(f.readline())"
   ]
  },
  {
   "cell_type": "code",
   "execution_count": 25,
   "id": "09660f60-7183-42b4-9315-8ddc53eb0066",
   "metadata": {},
   "outputs": [],
   "source": [
    "import json"
   ]
  },
  {
   "cell_type": "code",
   "execution_count": 26,
   "id": "06668647-5ddb-4364-817e-23f1daef4338",
   "metadata": {},
   "outputs": [],
   "source": [
    "with open(path) as f:\n",
    "    records = [json.loads(line) for line in f]"
   ]
  },
  {
   "cell_type": "code",
   "execution_count": 27,
   "id": "48eac64c-cf97-458c-93f2-88e17f4e17c3",
   "metadata": {},
   "outputs": [
    {
     "data": {
      "text/plain": [
       "{'a': 'Mozilla/5.0 (Windows NT 6.1; WOW64) AppleWebKit/535.11 (KHTML, like Gecko) Chrome/17.0.963.78 Safari/535.11',\n",
       " 'c': 'US',\n",
       " 'nk': 1,\n",
       " 'tz': 'America/New_York',\n",
       " 'gr': 'MA',\n",
       " 'g': 'A6qOVH',\n",
       " 'h': 'wfLQtf',\n",
       " 'l': 'orofrog',\n",
       " 'al': 'en-US,en;q=0.8',\n",
       " 'hh': '1.usa.gov',\n",
       " 'r': 'http://www.facebook.com/l/7AQEFzjSi/1.usa.gov/wfLQtf',\n",
       " 'u': 'http://www.ncbi.nlm.nih.gov/pubmed/22415991',\n",
       " 't': 1331923247,\n",
       " 'hc': 1331822918,\n",
       " 'cy': 'Danvers',\n",
       " 'll': [42.576698, -70.954903]}"
      ]
     },
     "execution_count": 27,
     "metadata": {},
     "output_type": "execute_result"
    }
   ],
   "source": [
    "records[0]"
   ]
  },
  {
   "cell_type": "code",
   "execution_count": 28,
   "id": "49f3d95b-55ad-4047-bf5e-2bb1839a85f8",
   "metadata": {},
   "outputs": [
    {
     "data": {
      "text/plain": [
       "{'a': 'Mozilla/5.0 (Windows NT 6.1; WOW64; rv:10.0.2) Gecko/20100101 Firefox/10.0.2',\n",
       " 'c': 'US',\n",
       " 'nk': 1,\n",
       " 'tz': 'America/Los_Angeles',\n",
       " 'gr': 'WA',\n",
       " 'g': 'vNJS4H',\n",
       " 'h': 'u0uD9q',\n",
       " 'l': 'o_4us71ccioa',\n",
       " 'al': 'en-us,en;q=0.5',\n",
       " 'hh': '1.usa.gov',\n",
       " 'r': 'direct',\n",
       " 'u': 'https://www.nysdot.gov/rexdesign/design/community.gif',\n",
       " 't': 1331923258,\n",
       " 'hc': 1319563556,\n",
       " 'cy': 'Seattle',\n",
       " 'll': [47.5951, -122.332603]}"
      ]
     },
     "execution_count": 28,
     "metadata": {},
     "output_type": "execute_result"
    }
   ],
   "source": [
    "records[10]"
   ]
  },
  {
   "cell_type": "code",
   "execution_count": 29,
   "id": "e6100e6f-2506-4743-9211-1cc3dfec26fe",
   "metadata": {},
   "outputs": [],
   "source": [
    "time_zones = [rec['tz'] for rec in records if 'tz' in rec]"
   ]
  },
  {
   "cell_type": "code",
   "execution_count": 30,
   "id": "19c253ee-a665-4d30-a008-3eccba451dd2",
   "metadata": {},
   "outputs": [
    {
     "data": {
      "text/plain": [
       "['America/New_York',\n",
       " 'America/Denver',\n",
       " 'America/New_York',\n",
       " 'America/Sao_Paulo',\n",
       " 'America/New_York',\n",
       " 'America/New_York',\n",
       " 'Europe/Warsaw',\n",
       " '',\n",
       " '',\n",
       " '']"
      ]
     },
     "execution_count": 30,
     "metadata": {},
     "output_type": "execute_result"
    }
   ],
   "source": [
    "time_zones[:10]"
   ]
  },
  {
   "cell_type": "code",
   "execution_count": 31,
   "id": "cb7ff9b3-6e59-4416-a4c9-d45d21b3ba0b",
   "metadata": {},
   "outputs": [
    {
     "data": {
      "text/plain": [
       "['America/Chicago',\n",
       " 'Europe/Rome',\n",
       " 'America/New_York',\n",
       " 'America/New_York',\n",
       " 'America/Los_Angeles',\n",
       " '',\n",
       " '',\n",
       " 'America/New_York',\n",
       " 'America/New_York',\n",
       " 'Europe/Malta']"
      ]
     },
     "execution_count": 31,
     "metadata": {},
     "output_type": "execute_result"
    }
   ],
   "source": [
    "time_zones[40:50]"
   ]
  },
  {
   "cell_type": "code",
   "execution_count": 44,
   "id": "8a8ca732-cd70-4b64-bc6b-21f2ec29fc5b",
   "metadata": {},
   "outputs": [
    {
     "data": {
      "text/html": [
       "<div>\n",
       "<style scoped>\n",
       "    .dataframe tbody tr th:only-of-type {\n",
       "        vertical-align: middle;\n",
       "    }\n",
       "\n",
       "    .dataframe tbody tr th {\n",
       "        vertical-align: top;\n",
       "    }\n",
       "\n",
       "    .dataframe thead th {\n",
       "        text-align: right;\n",
       "    }\n",
       "</style>\n",
       "<table border=\"1\" class=\"dataframe\">\n",
       "  <thead>\n",
       "    <tr style=\"text-align: right;\">\n",
       "      <th></th>\n",
       "      <th>a</th>\n",
       "      <th>c</th>\n",
       "      <th>nk</th>\n",
       "      <th>tz</th>\n",
       "      <th>gr</th>\n",
       "      <th>g</th>\n",
       "      <th>h</th>\n",
       "      <th>l</th>\n",
       "      <th>al</th>\n",
       "      <th>hh</th>\n",
       "      <th>r</th>\n",
       "      <th>u</th>\n",
       "      <th>t</th>\n",
       "      <th>hc</th>\n",
       "      <th>cy</th>\n",
       "      <th>ll</th>\n",
       "      <th>_heartbeat_</th>\n",
       "      <th>kw</th>\n",
       "    </tr>\n",
       "  </thead>\n",
       "  <tbody>\n",
       "    <tr>\n",
       "      <th>0</th>\n",
       "      <td>Mozilla/5.0 (Windows NT 6.1; WOW64) AppleWebKi...</td>\n",
       "      <td>US</td>\n",
       "      <td>1.0</td>\n",
       "      <td>America/New_York</td>\n",
       "      <td>MA</td>\n",
       "      <td>A6qOVH</td>\n",
       "      <td>wfLQtf</td>\n",
       "      <td>orofrog</td>\n",
       "      <td>en-US,en;q=0.8</td>\n",
       "      <td>1.usa.gov</td>\n",
       "      <td>http://www.facebook.com/l/7AQEFzjSi/1.usa.gov/...</td>\n",
       "      <td>http://www.ncbi.nlm.nih.gov/pubmed/22415991</td>\n",
       "      <td>1.331923e+09</td>\n",
       "      <td>1.331823e+09</td>\n",
       "      <td>Danvers</td>\n",
       "      <td>[42.576698, -70.954903]</td>\n",
       "      <td>NaN</td>\n",
       "      <td>NaN</td>\n",
       "    </tr>\n",
       "    <tr>\n",
       "      <th>1</th>\n",
       "      <td>GoogleMaps/RochesterNY</td>\n",
       "      <td>US</td>\n",
       "      <td>0.0</td>\n",
       "      <td>America/Denver</td>\n",
       "      <td>UT</td>\n",
       "      <td>mwszkS</td>\n",
       "      <td>mwszkS</td>\n",
       "      <td>bitly</td>\n",
       "      <td>NaN</td>\n",
       "      <td>j.mp</td>\n",
       "      <td>http://www.AwareMap.com/</td>\n",
       "      <td>http://www.monroecounty.gov/etc/911/rss.php</td>\n",
       "      <td>1.331923e+09</td>\n",
       "      <td>1.308262e+09</td>\n",
       "      <td>Provo</td>\n",
       "      <td>[40.218102, -111.613297]</td>\n",
       "      <td>NaN</td>\n",
       "      <td>NaN</td>\n",
       "    </tr>\n",
       "    <tr>\n",
       "      <th>2</th>\n",
       "      <td>Mozilla/4.0 (compatible; MSIE 8.0; Windows NT ...</td>\n",
       "      <td>US</td>\n",
       "      <td>1.0</td>\n",
       "      <td>America/New_York</td>\n",
       "      <td>DC</td>\n",
       "      <td>xxr3Qb</td>\n",
       "      <td>xxr3Qb</td>\n",
       "      <td>bitly</td>\n",
       "      <td>en-US</td>\n",
       "      <td>1.usa.gov</td>\n",
       "      <td>http://t.co/03elZC4Q</td>\n",
       "      <td>http://boxer.senate.gov/en/press/releases/0316...</td>\n",
       "      <td>1.331923e+09</td>\n",
       "      <td>1.331920e+09</td>\n",
       "      <td>Washington</td>\n",
       "      <td>[38.9007, -77.043098]</td>\n",
       "      <td>NaN</td>\n",
       "      <td>NaN</td>\n",
       "    </tr>\n",
       "    <tr>\n",
       "      <th>3</th>\n",
       "      <td>Mozilla/5.0 (Macintosh; Intel Mac OS X 10_6_8)...</td>\n",
       "      <td>BR</td>\n",
       "      <td>0.0</td>\n",
       "      <td>America/Sao_Paulo</td>\n",
       "      <td>27</td>\n",
       "      <td>zCaLwp</td>\n",
       "      <td>zUtuOu</td>\n",
       "      <td>alelex88</td>\n",
       "      <td>pt-br</td>\n",
       "      <td>1.usa.gov</td>\n",
       "      <td>direct</td>\n",
       "      <td>http://apod.nasa.gov/apod/ap120312.html</td>\n",
       "      <td>1.331923e+09</td>\n",
       "      <td>1.331923e+09</td>\n",
       "      <td>Braz</td>\n",
       "      <td>[-23.549999, -46.616699]</td>\n",
       "      <td>NaN</td>\n",
       "      <td>NaN</td>\n",
       "    </tr>\n",
       "    <tr>\n",
       "      <th>4</th>\n",
       "      <td>Mozilla/5.0 (Windows NT 6.1; WOW64) AppleWebKi...</td>\n",
       "      <td>US</td>\n",
       "      <td>0.0</td>\n",
       "      <td>America/New_York</td>\n",
       "      <td>MA</td>\n",
       "      <td>9b6kNl</td>\n",
       "      <td>9b6kNl</td>\n",
       "      <td>bitly</td>\n",
       "      <td>en-US,en;q=0.8</td>\n",
       "      <td>bit.ly</td>\n",
       "      <td>http://www.shrewsbury-ma.gov/selco/</td>\n",
       "      <td>http://www.shrewsbury-ma.gov/egov/gallery/1341...</td>\n",
       "      <td>1.331923e+09</td>\n",
       "      <td>1.273672e+09</td>\n",
       "      <td>Shrewsbury</td>\n",
       "      <td>[42.286499, -71.714699]</td>\n",
       "      <td>NaN</td>\n",
       "      <td>NaN</td>\n",
       "    </tr>\n",
       "    <tr>\n",
       "      <th>5</th>\n",
       "      <td>Mozilla/5.0 (Windows NT 6.1; WOW64) AppleWebKi...</td>\n",
       "      <td>US</td>\n",
       "      <td>0.0</td>\n",
       "      <td>America/New_York</td>\n",
       "      <td>MA</td>\n",
       "      <td>axNK8c</td>\n",
       "      <td>axNK8c</td>\n",
       "      <td>bitly</td>\n",
       "      <td>en-US,en;q=0.8</td>\n",
       "      <td>bit.ly</td>\n",
       "      <td>http://www.shrewsbury-ma.gov/selco/</td>\n",
       "      <td>http://www.shrewsbury-ma.gov/egov/gallery/1341...</td>\n",
       "      <td>1.331923e+09</td>\n",
       "      <td>1.273673e+09</td>\n",
       "      <td>Shrewsbury</td>\n",
       "      <td>[42.286499, -71.714699]</td>\n",
       "      <td>NaN</td>\n",
       "      <td>NaN</td>\n",
       "    </tr>\n",
       "    <tr>\n",
       "      <th>6</th>\n",
       "      <td>Mozilla/5.0 (Windows NT 5.1) AppleWebKit/535.1...</td>\n",
       "      <td>PL</td>\n",
       "      <td>0.0</td>\n",
       "      <td>Europe/Warsaw</td>\n",
       "      <td>77</td>\n",
       "      <td>wcndER</td>\n",
       "      <td>zkpJBR</td>\n",
       "      <td>bnjacobs</td>\n",
       "      <td>pl-PL,pl;q=0.8,en-US;q=0.6,en;q=0.4</td>\n",
       "      <td>1.usa.gov</td>\n",
       "      <td>http://plus.url.google.com/url?sa=z&amp;n=13319232...</td>\n",
       "      <td>http://www.nasa.gov/mission_pages/nustar/main/...</td>\n",
       "      <td>1.331923e+09</td>\n",
       "      <td>1.331923e+09</td>\n",
       "      <td>Luban</td>\n",
       "      <td>[51.116699, 15.2833]</td>\n",
       "      <td>NaN</td>\n",
       "      <td>NaN</td>\n",
       "    </tr>\n",
       "    <tr>\n",
       "      <th>7</th>\n",
       "      <td>Mozilla/5.0 (Windows NT 6.1; rv:2.0.1) Gecko/2...</td>\n",
       "      <td>None</td>\n",
       "      <td>0.0</td>\n",
       "      <td></td>\n",
       "      <td>NaN</td>\n",
       "      <td>wcndER</td>\n",
       "      <td>zkpJBR</td>\n",
       "      <td>bnjacobs</td>\n",
       "      <td>bg,en-us;q=0.7,en;q=0.3</td>\n",
       "      <td>1.usa.gov</td>\n",
       "      <td>http://www.facebook.com/</td>\n",
       "      <td>http://www.nasa.gov/mission_pages/nustar/main/...</td>\n",
       "      <td>1.331923e+09</td>\n",
       "      <td>1.331923e+09</td>\n",
       "      <td>NaN</td>\n",
       "      <td>NaN</td>\n",
       "      <td>NaN</td>\n",
       "      <td>NaN</td>\n",
       "    </tr>\n",
       "    <tr>\n",
       "      <th>8</th>\n",
       "      <td>Opera/9.80 (X11; Linux zbov; U; en) Presto/2.1...</td>\n",
       "      <td>None</td>\n",
       "      <td>0.0</td>\n",
       "      <td></td>\n",
       "      <td>NaN</td>\n",
       "      <td>wcndER</td>\n",
       "      <td>zkpJBR</td>\n",
       "      <td>bnjacobs</td>\n",
       "      <td>en-US, en</td>\n",
       "      <td>1.usa.gov</td>\n",
       "      <td>http://www.facebook.com/l.php?u=http%3A%2F%2F1...</td>\n",
       "      <td>http://www.nasa.gov/mission_pages/nustar/main/...</td>\n",
       "      <td>1.331923e+09</td>\n",
       "      <td>1.331923e+09</td>\n",
       "      <td>NaN</td>\n",
       "      <td>NaN</td>\n",
       "      <td>NaN</td>\n",
       "      <td>NaN</td>\n",
       "    </tr>\n",
       "    <tr>\n",
       "      <th>9</th>\n",
       "      <td>Mozilla/5.0 (Windows NT 6.1; WOW64) AppleWebKi...</td>\n",
       "      <td>None</td>\n",
       "      <td>0.0</td>\n",
       "      <td></td>\n",
       "      <td>NaN</td>\n",
       "      <td>zCaLwp</td>\n",
       "      <td>zUtuOu</td>\n",
       "      <td>alelex88</td>\n",
       "      <td>pt-BR,pt;q=0.8,en-US;q=0.6,en;q=0.4</td>\n",
       "      <td>1.usa.gov</td>\n",
       "      <td>http://t.co/o1Pd0WeV</td>\n",
       "      <td>http://apod.nasa.gov/apod/ap120312.html</td>\n",
       "      <td>1.331923e+09</td>\n",
       "      <td>1.331923e+09</td>\n",
       "      <td>NaN</td>\n",
       "      <td>NaN</td>\n",
       "      <td>NaN</td>\n",
       "      <td>NaN</td>\n",
       "    </tr>\n",
       "  </tbody>\n",
       "</table>\n",
       "</div>"
      ],
      "text/plain": [
       "                                                   a     c   nk  \\\n",
       "0  Mozilla/5.0 (Windows NT 6.1; WOW64) AppleWebKi...    US  1.0   \n",
       "1                             GoogleMaps/RochesterNY    US  0.0   \n",
       "2  Mozilla/4.0 (compatible; MSIE 8.0; Windows NT ...    US  1.0   \n",
       "3  Mozilla/5.0 (Macintosh; Intel Mac OS X 10_6_8)...    BR  0.0   \n",
       "4  Mozilla/5.0 (Windows NT 6.1; WOW64) AppleWebKi...    US  0.0   \n",
       "5  Mozilla/5.0 (Windows NT 6.1; WOW64) AppleWebKi...    US  0.0   \n",
       "6  Mozilla/5.0 (Windows NT 5.1) AppleWebKit/535.1...    PL  0.0   \n",
       "7  Mozilla/5.0 (Windows NT 6.1; rv:2.0.1) Gecko/2...  None  0.0   \n",
       "8  Opera/9.80 (X11; Linux zbov; U; en) Presto/2.1...  None  0.0   \n",
       "9  Mozilla/5.0 (Windows NT 6.1; WOW64) AppleWebKi...  None  0.0   \n",
       "\n",
       "                  tz   gr       g       h         l  \\\n",
       "0   America/New_York   MA  A6qOVH  wfLQtf   orofrog   \n",
       "1     America/Denver   UT  mwszkS  mwszkS     bitly   \n",
       "2   America/New_York   DC  xxr3Qb  xxr3Qb     bitly   \n",
       "3  America/Sao_Paulo   27  zCaLwp  zUtuOu  alelex88   \n",
       "4   America/New_York   MA  9b6kNl  9b6kNl     bitly   \n",
       "5   America/New_York   MA  axNK8c  axNK8c     bitly   \n",
       "6      Europe/Warsaw   77  wcndER  zkpJBR  bnjacobs   \n",
       "7                     NaN  wcndER  zkpJBR  bnjacobs   \n",
       "8                     NaN  wcndER  zkpJBR  bnjacobs   \n",
       "9                     NaN  zCaLwp  zUtuOu  alelex88   \n",
       "\n",
       "                                    al         hh  \\\n",
       "0                       en-US,en;q=0.8  1.usa.gov   \n",
       "1                                  NaN       j.mp   \n",
       "2                                en-US  1.usa.gov   \n",
       "3                                pt-br  1.usa.gov   \n",
       "4                       en-US,en;q=0.8     bit.ly   \n",
       "5                       en-US,en;q=0.8     bit.ly   \n",
       "6  pl-PL,pl;q=0.8,en-US;q=0.6,en;q=0.4  1.usa.gov   \n",
       "7              bg,en-us;q=0.7,en;q=0.3  1.usa.gov   \n",
       "8                            en-US, en  1.usa.gov   \n",
       "9  pt-BR,pt;q=0.8,en-US;q=0.6,en;q=0.4  1.usa.gov   \n",
       "\n",
       "                                                   r  \\\n",
       "0  http://www.facebook.com/l/7AQEFzjSi/1.usa.gov/...   \n",
       "1                           http://www.AwareMap.com/   \n",
       "2                               http://t.co/03elZC4Q   \n",
       "3                                             direct   \n",
       "4                http://www.shrewsbury-ma.gov/selco/   \n",
       "5                http://www.shrewsbury-ma.gov/selco/   \n",
       "6  http://plus.url.google.com/url?sa=z&n=13319232...   \n",
       "7                           http://www.facebook.com/   \n",
       "8  http://www.facebook.com/l.php?u=http%3A%2F%2F1...   \n",
       "9                               http://t.co/o1Pd0WeV   \n",
       "\n",
       "                                                   u             t  \\\n",
       "0        http://www.ncbi.nlm.nih.gov/pubmed/22415991  1.331923e+09   \n",
       "1        http://www.monroecounty.gov/etc/911/rss.php  1.331923e+09   \n",
       "2  http://boxer.senate.gov/en/press/releases/0316...  1.331923e+09   \n",
       "3            http://apod.nasa.gov/apod/ap120312.html  1.331923e+09   \n",
       "4  http://www.shrewsbury-ma.gov/egov/gallery/1341...  1.331923e+09   \n",
       "5  http://www.shrewsbury-ma.gov/egov/gallery/1341...  1.331923e+09   \n",
       "6  http://www.nasa.gov/mission_pages/nustar/main/...  1.331923e+09   \n",
       "7  http://www.nasa.gov/mission_pages/nustar/main/...  1.331923e+09   \n",
       "8  http://www.nasa.gov/mission_pages/nustar/main/...  1.331923e+09   \n",
       "9            http://apod.nasa.gov/apod/ap120312.html  1.331923e+09   \n",
       "\n",
       "             hc          cy                        ll  _heartbeat_   kw  \n",
       "0  1.331823e+09     Danvers   [42.576698, -70.954903]          NaN  NaN  \n",
       "1  1.308262e+09       Provo  [40.218102, -111.613297]          NaN  NaN  \n",
       "2  1.331920e+09  Washington     [38.9007, -77.043098]          NaN  NaN  \n",
       "3  1.331923e+09        Braz  [-23.549999, -46.616699]          NaN  NaN  \n",
       "4  1.273672e+09  Shrewsbury   [42.286499, -71.714699]          NaN  NaN  \n",
       "5  1.273673e+09  Shrewsbury   [42.286499, -71.714699]          NaN  NaN  \n",
       "6  1.331923e+09       Luban      [51.116699, 15.2833]          NaN  NaN  \n",
       "7  1.331923e+09         NaN                       NaN          NaN  NaN  \n",
       "8  1.331923e+09         NaN                       NaN          NaN  NaN  \n",
       "9  1.331923e+09         NaN                       NaN          NaN  NaN  "
      ]
     },
     "execution_count": 44,
     "metadata": {},
     "output_type": "execute_result"
    }
   ],
   "source": [
    "frame = pd.DataFrame(records)\n",
    "frame.head(10)"
   ]
  },
  {
   "cell_type": "code",
   "execution_count": 35,
   "id": "499b9689-c93c-4c8a-bb5d-0122dcc24e7b",
   "metadata": {},
   "outputs": [
    {
     "name": "stdout",
     "output_type": "stream",
     "text": [
      "<class 'pandas.core.frame.DataFrame'>\n",
      "RangeIndex: 3560 entries, 0 to 3559\n",
      "Data columns (total 18 columns):\n",
      " #   Column       Non-Null Count  Dtype  \n",
      "---  ------       --------------  -----  \n",
      " 0   a            3440 non-null   object \n",
      " 1   c            2919 non-null   object \n",
      " 2   nk           3440 non-null   float64\n",
      " 3   tz           3440 non-null   object \n",
      " 4   gr           2919 non-null   object \n",
      " 5   g            3440 non-null   object \n",
      " 6   h            3440 non-null   object \n",
      " 7   l            3440 non-null   object \n",
      " 8   al           3094 non-null   object \n",
      " 9   hh           3440 non-null   object \n",
      " 10  r            3440 non-null   object \n",
      " 11  u            3440 non-null   object \n",
      " 12  t            3440 non-null   float64\n",
      " 13  hc           3440 non-null   float64\n",
      " 14  cy           2919 non-null   object \n",
      " 15  ll           2919 non-null   object \n",
      " 16  _heartbeat_  120 non-null    float64\n",
      " 17  kw           93 non-null     object \n",
      "dtypes: float64(4), object(14)\n",
      "memory usage: 500.8+ KB\n"
     ]
    }
   ],
   "source": [
    "frame.info()"
   ]
  },
  {
   "cell_type": "code",
   "execution_count": 36,
   "id": "869e1b45-af56-4d27-b250-0abdec4eb052",
   "metadata": {},
   "outputs": [
    {
     "data": {
      "text/plain": [
       "a               120\n",
       "c               641\n",
       "nk              120\n",
       "tz              120\n",
       "gr              641\n",
       "g               120\n",
       "h               120\n",
       "l               120\n",
       "al              466\n",
       "hh              120\n",
       "r               120\n",
       "u               120\n",
       "t               120\n",
       "hc              120\n",
       "cy              641\n",
       "ll              641\n",
       "_heartbeat_    3440\n",
       "kw             3467\n",
       "dtype: int64"
      ]
     },
     "execution_count": 36,
     "metadata": {},
     "output_type": "execute_result"
    }
   ],
   "source": [
    "frame.isna().sum()"
   ]
  },
  {
   "cell_type": "code",
   "execution_count": 68,
   "id": "bdb3cb32-a184-436d-abe5-8498e85009ed",
   "metadata": {},
   "outputs": [
    {
     "data": {
      "text/plain": [
       "0     America/New_York\n",
       "1       America/Denver\n",
       "2     America/New_York\n",
       "3    America/Sao_Paulo\n",
       "4     America/New_York\n",
       "Name: tz, dtype: object"
      ]
     },
     "execution_count": 68,
     "metadata": {},
     "output_type": "execute_result"
    }
   ],
   "source": [
    "frame['tz'].head()"
   ]
  },
  {
   "cell_type": "code",
   "execution_count": 69,
   "id": "b12fb7d7-4126-41b7-946d-9ff472eef57b",
   "metadata": {},
   "outputs": [],
   "source": [
    "tz_counts = frame['tz'].value_counts()"
   ]
  },
  {
   "cell_type": "code",
   "execution_count": 70,
   "id": "e0c277c1-56be-4d07-814b-dd02ae87cdeb",
   "metadata": {},
   "outputs": [
    {
     "data": {
      "text/plain": [
       "tz\n",
       "America/New_York        1251\n",
       "                         521\n",
       "America/Chicago          400\n",
       "America/Los_Angeles      382\n",
       "America/Denver           191\n",
       "                        ... \n",
       "Europe/Uzhgorod            1\n",
       "Australia/Queensland       1\n",
       "Europe/Sofia               1\n",
       "America/Costa_Rica         1\n",
       "America/Tegucigalpa        1\n",
       "Name: count, Length: 97, dtype: int64"
      ]
     },
     "execution_count": 70,
     "metadata": {},
     "output_type": "execute_result"
    }
   ],
   "source": [
    "tz_counts"
   ]
  },
  {
   "cell_type": "code",
   "execution_count": 71,
   "id": "789738e5-9076-479c-9615-ba37c77cd3bc",
   "metadata": {},
   "outputs": [],
   "source": [
    "clean_tz = frame['tz'].fillna('Missing')"
   ]
  },
  {
   "cell_type": "code",
   "execution_count": 72,
   "id": "ffbcc659-cbd5-48a2-8f95-92ba958d9963",
   "metadata": {},
   "outputs": [
    {
     "data": {
      "text/plain": [
       "0     America/New_York\n",
       "1       America/Denver\n",
       "2     America/New_York\n",
       "3    America/Sao_Paulo\n",
       "4     America/New_York\n",
       "5     America/New_York\n",
       "6        Europe/Warsaw\n",
       "7                     \n",
       "8                     \n",
       "9                     \n",
       "Name: tz, dtype: object"
      ]
     },
     "execution_count": 72,
     "metadata": {},
     "output_type": "execute_result"
    }
   ],
   "source": [
    "clean_tz.head(10)"
   ]
  },
  {
   "cell_type": "code",
   "execution_count": 73,
   "id": "b0687689-87bd-4482-ae95-cd4c963727ec",
   "metadata": {},
   "outputs": [],
   "source": [
    "clean_tz[clean_tz ==''] = 'Unknown'"
   ]
  },
  {
   "cell_type": "code",
   "execution_count": 74,
   "id": "93eda99a-c9c9-4b44-8b66-c424e15c9443",
   "metadata": {},
   "outputs": [],
   "source": [
    "tz_counts = clean_tz.value_counts()"
   ]
  },
  {
   "cell_type": "code",
   "execution_count": 75,
   "id": "cfeac6b8-c572-443c-8649-dde1cc38e41f",
   "metadata": {},
   "outputs": [
    {
     "data": {
      "text/plain": [
       "tz\n",
       "America/New_York       1251\n",
       "Unknown                 521\n",
       "America/Chicago         400\n",
       "America/Los_Angeles     382\n",
       "America/Denver          191\n",
       "Name: count, dtype: int64"
      ]
     },
     "execution_count": 75,
     "metadata": {},
     "output_type": "execute_result"
    }
   ],
   "source": [
    "tz_counts.head()"
   ]
  },
  {
   "cell_type": "code",
   "execution_count": 76,
   "id": "7adc15d1-fe30-4fe2-b890-ab24cc49ef5b",
   "metadata": {},
   "outputs": [
    {
     "data": {
      "text/plain": [
       "pandas.core.series.Series"
      ]
     },
     "execution_count": 76,
     "metadata": {},
     "output_type": "execute_result"
    }
   ],
   "source": [
    "type(tz_counts)"
   ]
  },
  {
   "cell_type": "code",
   "execution_count": 77,
   "id": "6f0b061b-7fda-489a-b3d3-8f79f6fcdde8",
   "metadata": {},
   "outputs": [
    {
     "data": {
      "text/plain": [
       "pandas.core.series.Series"
      ]
     },
     "execution_count": 77,
     "metadata": {},
     "output_type": "execute_result"
    }
   ],
   "source": [
    "type(clean_tz)"
   ]
  },
  {
   "cell_type": "code",
   "execution_count": 86,
   "id": "08819657-59f9-475a-ac14-635310e6bbfc",
   "metadata": {},
   "outputs": [],
   "source": [
    "subset = tz_counts.head(10)"
   ]
  },
  {
   "cell_type": "code",
   "execution_count": 87,
   "id": "8b6880ae-c25b-47be-ab6a-35d31cb706a3",
   "metadata": {},
   "outputs": [
    {
     "data": {
      "text/plain": [
       "<Axes: ylabel='tz'>"
      ]
     },
     "execution_count": 87,
     "metadata": {},
     "output_type": "execute_result"
    },
    {
     "data": {
      "image/png": "[encoded data removed]",
      "text/plain": [
       "<Figure size 640x480 with 1 Axes>"
      ]
     },
     "metadata": {},
     "output_type": "display_data"
    }
   ],
   "source": [
    "sns.barplot(y=subset.index,x=subset.to_numpy())"
   ]
  },
  {
   "cell_type": "code",
   "execution_count": 95,
   "id": "9089077a-ce12-4e44-bb0e-aced0859c6f8",
   "metadata": {},
   "outputs": [
    {
     "data": {
      "text/plain": [
       "0               Mozilla/5.0\n",
       "1    GoogleMaps/RochesterNY\n",
       "2               Mozilla/4.0\n",
       "3               Mozilla/5.0\n",
       "4               Mozilla/5.0\n",
       "5               Mozilla/5.0\n",
       "6               Mozilla/5.0\n",
       "7               Mozilla/5.0\n",
       "8                Opera/9.80\n",
       "9               Mozilla/5.0\n",
       "dtype: object"
      ]
     },
     "execution_count": 95,
     "metadata": {},
     "output_type": "execute_result"
    }
   ],
   "source": [
    "results = pd.Series([x.split()[0] for x in frame['a'].dropna()])\n",
    "results.head(10)"
   ]
  },
  {
   "cell_type": "code",
   "execution_count": 96,
   "id": "a05ec9fb-de96-443c-a364-056977a56fcd",
   "metadata": {},
   "outputs": [
    {
     "data": {
      "text/plain": [
       "0    Mozilla/5.0 (Windows NT 6.1; WOW64) AppleWebKi...\n",
       "1                               GoogleMaps/RochesterNY\n",
       "2    Mozilla/4.0 (compatible; MSIE 8.0; Windows NT ...\n",
       "3    Mozilla/5.0 (Macintosh; Intel Mac OS X 10_6_8)...\n",
       "4    Mozilla/5.0 (Windows NT 6.1; WOW64) AppleWebKi...\n",
       "5    Mozilla/5.0 (Windows NT 6.1; WOW64) AppleWebKi...\n",
       "6    Mozilla/5.0 (Windows NT 5.1) AppleWebKit/535.1...\n",
       "7    Mozilla/5.0 (Windows NT 6.1; rv:2.0.1) Gecko/2...\n",
       "8    Opera/9.80 (X11; Linux zbov; U; en) Presto/2.1...\n",
       "9    Mozilla/5.0 (Windows NT 6.1; WOW64) AppleWebKi...\n",
       "Name: a, dtype: object"
      ]
     },
     "execution_count": 96,
     "metadata": {},
     "output_type": "execute_result"
    }
   ],
   "source": [
    "frame['a'].head(10)"
   ]
  },
  {
   "cell_type": "code",
   "execution_count": 97,
   "id": "24beb4a7-c2d7-4436-862a-661c94b79ea0",
   "metadata": {},
   "outputs": [
    {
     "data": {
      "text/plain": [
       "Mozilla/5.0                                          2594\n",
       "Mozilla/4.0                                           601\n",
       "GoogleMaps/RochesterNY                                121\n",
       "Opera/9.80                                             34\n",
       "TEST_INTERNET_AGENT                                    24\n",
       "GoogleProducer                                         21\n",
       "Mozilla/6.0                                             5\n",
       "BlackBerry8520/5.0.0.681                                4\n",
       "BlackBerry8520/5.0.0.592                                3\n",
       "Dalvik/1.4.0                                            3\n",
       "Goldfire                                                2\n",
       "Acoon                                                   2\n",
       "Socialite/7766                                          2\n",
       "BlackBerry9630/5.0.0.975                                2\n",
       "sometrik.com                                            1\n",
       "Vodafone/1.0/LG-KU990i/V10c                             1\n",
       "BlackBerry8530/5.0.0.654                                1\n",
       "Vancouver                                               1\n",
       "Opera/9.00                                              1\n",
       "Opera/9.64(Windows                                      1\n",
       "Mozilla/0.6                                             1\n",
       "MOT-MB525/Blur_Version.34.4.709.MB525.Latam.en.01       1\n",
       "LG-GW382f/V10d                                          1\n",
       "Opera/9.50                                              1\n",
       "HTTP_Request2/2.0.0                                     1\n",
       "ICE                                                     1\n",
       "BlackBerry9700/5.0.0.423                                1\n",
       "Opera/9.30                                              1\n",
       "LG-LG220C[TF268435458416597116000000013524223841]       1\n",
       "BlackBerry9300/5.0.0.997                                1\n",
       "Nokia6790s-1b/ATT.03.22                                 1\n",
       "SAMSUNG-SGH-A887/A887UCIJ1                              1\n",
       "BlackBerry9530/5.0.0.328                                1\n",
       "BlackBerry8520/5.0.0.1067                               1\n",
       "NokiaC3-00/5.0                                          1\n",
       "BlackBerry9700/5.0.0.862                                1\n",
       "Name: count, dtype: int64"
      ]
     },
     "execution_count": 97,
     "metadata": {},
     "output_type": "execute_result"
    }
   ],
   "source": [
    "results.value_counts()"
   ]
  },
  {
   "cell_type": "code",
   "execution_count": 98,
   "id": "fa9d116f-45f9-4e79-a86f-e3d50b79e0cd",
   "metadata": {},
   "outputs": [],
   "source": [
    "cframe = frame[frame['a'].notna()].copy()"
   ]
  },
  {
   "cell_type": "code",
   "execution_count": 100,
   "id": "eb9434d8-b548-49e0-941d-7971b38c037a",
   "metadata": {},
   "outputs": [],
   "source": [
    "cframe['os'] = np.where(cframe['a'].str.contains('Windows'),'Windows','Not Windows')"
   ]
  },
  {
   "cell_type": "code",
   "execution_count": 102,
   "id": "e613aa21-285a-44d8-aa80-45def8a7c25e",
   "metadata": {},
   "outputs": [
    {
     "data": {
      "text/plain": [
       "0        Windows\n",
       "1    Not Windows\n",
       "2        Windows\n",
       "3    Not Windows\n",
       "4        Windows\n",
       "5        Windows\n",
       "6        Windows\n",
       "7        Windows\n",
       "8    Not Windows\n",
       "9        Windows\n",
       "Name: os, dtype: object"
      ]
     },
     "execution_count": 102,
     "metadata": {},
     "output_type": "execute_result"
    }
   ],
   "source": [
    "cframe['os'].head(10)"
   ]
  },
  {
   "cell_type": "code",
   "execution_count": 105,
   "id": "cdcc2a3a-fd93-4d5b-a376-3912a4fd1b75",
   "metadata": {},
   "outputs": [
    {
     "data": {
      "text/plain": [
       "os\n",
       "Windows        2246\n",
       "Not Windows    1194\n",
       "Name: count, dtype: int64"
      ]
     },
     "execution_count": 105,
     "metadata": {},
     "output_type": "execute_result"
    }
   ],
   "source": [
    "cframe['os'].value_counts()"
   ]
  },
  {
   "cell_type": "code",
   "execution_count": 106,
   "id": "d9c54c2b-2d92-4da0-bd0a-a4fcd0a8e8d1",
   "metadata": {},
   "outputs": [],
   "source": [
    "by_tz_os = cframe.groupby(['tz','os'])"
   ]
  },
  {
   "cell_type": "code",
   "execution_count": 107,
   "id": "305ef551-fc1f-4fb3-90a2-eed8497f7135",
   "metadata": {},
   "outputs": [],
   "source": [
    "agg_counts=by_tz_os.size().unstack().fillna(0)"
   ]
  },
  {
   "cell_type": "code",
   "execution_count": 115,
   "id": "849a8cd1-114b-4dd3-bb27-6a677d54e9c6",
   "metadata": {},
   "outputs": [
    {
     "data": {
      "text/html": [
       "<div>\n",
       "<style scoped>\n",
       "    .dataframe tbody tr th:only-of-type {\n",
       "        vertical-align: middle;\n",
       "    }\n",
       "\n",
       "    .dataframe tbody tr th {\n",
       "        vertical-align: top;\n",
       "    }\n",
       "\n",
       "    .dataframe thead th {\n",
       "        text-align: right;\n",
       "    }\n",
       "</style>\n",
       "<table border=\"1\" class=\"dataframe\">\n",
       "  <thead>\n",
       "    <tr style=\"text-align: right;\">\n",
       "      <th>os</th>\n",
       "      <th>Not Windows</th>\n",
       "      <th>Windows</th>\n",
       "    </tr>\n",
       "    <tr>\n",
       "      <th>tz</th>\n",
       "      <th></th>\n",
       "      <th></th>\n",
       "    </tr>\n",
       "  </thead>\n",
       "  <tbody>\n",
       "    <tr>\n",
       "      <th></th>\n",
       "      <td>245.0</td>\n",
       "      <td>276.0</td>\n",
       "    </tr>\n",
       "    <tr>\n",
       "      <th>Africa/Cairo</th>\n",
       "      <td>0.0</td>\n",
       "      <td>3.0</td>\n",
       "    </tr>\n",
       "    <tr>\n",
       "      <th>Africa/Casablanca</th>\n",
       "      <td>0.0</td>\n",
       "      <td>1.0</td>\n",
       "    </tr>\n",
       "    <tr>\n",
       "      <th>Africa/Ceuta</th>\n",
       "      <td>0.0</td>\n",
       "      <td>2.0</td>\n",
       "    </tr>\n",
       "    <tr>\n",
       "      <th>Africa/Johannesburg</th>\n",
       "      <td>0.0</td>\n",
       "      <td>1.0</td>\n",
       "    </tr>\n",
       "    <tr>\n",
       "      <th>...</th>\n",
       "      <td>...</td>\n",
       "      <td>...</td>\n",
       "    </tr>\n",
       "    <tr>\n",
       "      <th>Europe/Volgograd</th>\n",
       "      <td>0.0</td>\n",
       "      <td>1.0</td>\n",
       "    </tr>\n",
       "    <tr>\n",
       "      <th>Europe/Warsaw</th>\n",
       "      <td>1.0</td>\n",
       "      <td>15.0</td>\n",
       "    </tr>\n",
       "    <tr>\n",
       "      <th>Europe/Zurich</th>\n",
       "      <td>4.0</td>\n",
       "      <td>0.0</td>\n",
       "    </tr>\n",
       "    <tr>\n",
       "      <th>Pacific/Auckland</th>\n",
       "      <td>3.0</td>\n",
       "      <td>8.0</td>\n",
       "    </tr>\n",
       "    <tr>\n",
       "      <th>Pacific/Honolulu</th>\n",
       "      <td>0.0</td>\n",
       "      <td>36.0</td>\n",
       "    </tr>\n",
       "  </tbody>\n",
       "</table>\n",
       "<p>97 rows × 2 columns</p>\n",
       "</div>"
      ],
      "text/plain": [
       "os                   Not Windows  Windows\n",
       "tz                                       \n",
       "                           245.0    276.0\n",
       "Africa/Cairo                 0.0      3.0\n",
       "Africa/Casablanca            0.0      1.0\n",
       "Africa/Ceuta                 0.0      2.0\n",
       "Africa/Johannesburg          0.0      1.0\n",
       "...                          ...      ...\n",
       "Europe/Volgograd             0.0      1.0\n",
       "Europe/Warsaw                1.0     15.0\n",
       "Europe/Zurich                4.0      0.0\n",
       "Pacific/Auckland             3.0      8.0\n",
       "Pacific/Honolulu             0.0     36.0\n",
       "\n",
       "[97 rows x 2 columns]"
      ]
     },
     "execution_count": 115,
     "metadata": {},
     "output_type": "execute_result"
    }
   ],
   "source": [
    "agg_counts"
   ]
  },
  {
   "cell_type": "code",
   "execution_count": 116,
   "id": "99f60a09-4e5a-45bf-bb49-d58263cf3158",
   "metadata": {},
   "outputs": [],
   "source": [
    "indexer = agg_counts.sum('columns').argsort()"
   ]
  },
  {
   "cell_type": "code",
   "execution_count": 117,
   "id": "e6717717-0fe5-4a58-a1f2-a00c210ea467",
   "metadata": {},
   "outputs": [
    {
     "data": {
      "text/plain": [
       "array([24, 20, 21, 92, 87, 53, 54, 57, 26, 55])"
      ]
     },
     "execution_count": 117,
     "metadata": {},
     "output_type": "execute_result"
    }
   ],
   "source": [
    "indexer.values[:10]"
   ]
  },
  {
   "cell_type": "code",
   "execution_count": 118,
   "id": "98fa8b7d-5303-4271-8982-2eb55be3a10b",
   "metadata": {},
   "outputs": [],
   "source": [
    "count_subset = agg_counts.take(indexer[-10:])"
   ]
  },
  {
   "cell_type": "code",
   "execution_count": 120,
   "id": "07381a06-256e-4fbd-8a76-9148416a780b",
   "metadata": {},
   "outputs": [],
   "source": [
    "count_subset = count_subset.stack()"
   ]
  },
  {
   "cell_type": "code",
   "execution_count": 121,
   "id": "63611872-75c4-40db-b3f0-0d14acafcf2f",
   "metadata": {},
   "outputs": [],
   "source": [
    "count_subset.name = 'total'"
   ]
  },
  {
   "cell_type": "code",
   "execution_count": 122,
   "id": "dba1dac7-6352-4292-acd9-5eb31aeb089c",
   "metadata": {},
   "outputs": [],
   "source": [
    "count_subset = count_subset.reset_index()"
   ]
  },
  {
   "cell_type": "code",
   "execution_count": 123,
   "id": "b227fc09-5dd9-42a8-aea9-f2c4e88e943c",
   "metadata": {},
   "outputs": [
    {
     "data": {
      "text/html": [
       "<div>\n",
       "<style scoped>\n",
       "    .dataframe tbody tr th:only-of-type {\n",
       "        vertical-align: middle;\n",
       "    }\n",
       "\n",
       "    .dataframe tbody tr th {\n",
       "        vertical-align: top;\n",
       "    }\n",
       "\n",
       "    .dataframe thead th {\n",
       "        text-align: right;\n",
       "    }\n",
       "</style>\n",
       "<table border=\"1\" class=\"dataframe\">\n",
       "  <thead>\n",
       "    <tr style=\"text-align: right;\">\n",
       "      <th></th>\n",
       "      <th>tz</th>\n",
       "      <th>os</th>\n",
       "      <th>total</th>\n",
       "    </tr>\n",
       "  </thead>\n",
       "  <tbody>\n",
       "    <tr>\n",
       "      <th>0</th>\n",
       "      <td>America/Sao_Paulo</td>\n",
       "      <td>Not Windows</td>\n",
       "      <td>13.0</td>\n",
       "    </tr>\n",
       "    <tr>\n",
       "      <th>1</th>\n",
       "      <td>America/Sao_Paulo</td>\n",
       "      <td>Windows</td>\n",
       "      <td>20.0</td>\n",
       "    </tr>\n",
       "    <tr>\n",
       "      <th>2</th>\n",
       "      <td>Europe/Madrid</td>\n",
       "      <td>Not Windows</td>\n",
       "      <td>16.0</td>\n",
       "    </tr>\n",
       "    <tr>\n",
       "      <th>3</th>\n",
       "      <td>Europe/Madrid</td>\n",
       "      <td>Windows</td>\n",
       "      <td>19.0</td>\n",
       "    </tr>\n",
       "    <tr>\n",
       "      <th>4</th>\n",
       "      <td>Pacific/Honolulu</td>\n",
       "      <td>Not Windows</td>\n",
       "      <td>0.0</td>\n",
       "    </tr>\n",
       "    <tr>\n",
       "      <th>5</th>\n",
       "      <td>Pacific/Honolulu</td>\n",
       "      <td>Windows</td>\n",
       "      <td>36.0</td>\n",
       "    </tr>\n",
       "    <tr>\n",
       "      <th>6</th>\n",
       "      <td>Asia/Tokyo</td>\n",
       "      <td>Not Windows</td>\n",
       "      <td>2.0</td>\n",
       "    </tr>\n",
       "    <tr>\n",
       "      <th>7</th>\n",
       "      <td>Asia/Tokyo</td>\n",
       "      <td>Windows</td>\n",
       "      <td>35.0</td>\n",
       "    </tr>\n",
       "    <tr>\n",
       "      <th>8</th>\n",
       "      <td>Europe/London</td>\n",
       "      <td>Not Windows</td>\n",
       "      <td>43.0</td>\n",
       "    </tr>\n",
       "    <tr>\n",
       "      <th>9</th>\n",
       "      <td>Europe/London</td>\n",
       "      <td>Windows</td>\n",
       "      <td>31.0</td>\n",
       "    </tr>\n",
       "  </tbody>\n",
       "</table>\n",
       "</div>"
      ],
      "text/plain": [
       "                  tz           os  total\n",
       "0  America/Sao_Paulo  Not Windows   13.0\n",
       "1  America/Sao_Paulo      Windows   20.0\n",
       "2      Europe/Madrid  Not Windows   16.0\n",
       "3      Europe/Madrid      Windows   19.0\n",
       "4   Pacific/Honolulu  Not Windows    0.0\n",
       "5   Pacific/Honolulu      Windows   36.0\n",
       "6         Asia/Tokyo  Not Windows    2.0\n",
       "7         Asia/Tokyo      Windows   35.0\n",
       "8      Europe/London  Not Windows   43.0\n",
       "9      Europe/London      Windows   31.0"
      ]
     },
     "execution_count": 123,
     "metadata": {},
     "output_type": "execute_result"
    }
   ],
   "source": [
    "count_subset.head(10)"
   ]
  },
  {
   "cell_type": "code",
   "execution_count": 125,
   "id": "85c7edad-5807-49d7-9234-c2d8fc286ccc",
   "metadata": {},
   "outputs": [
    {
     "data": {
      "text/plain": [
       "<Axes: xlabel='total', ylabel='tz'>"
      ]
     },
     "execution_count": 125,
     "metadata": {},
     "output_type": "execute_result"
    },
    {
     "data": {
      "image/png": "[encoded data removed]",
      "text/plain": [
       "<Figure size 640x480 with 1 Axes>"
      ]
     },
     "metadata": {},
     "output_type": "display_data"
    }
   ],
   "source": [
    "sns.barplot(x='total',y='tz',hue='os',data=count_subset)"
   ]
  },
  {
   "cell_type": "code",
   "execution_count": 129,
   "id": "7dade921-882a-48d0-9896-1c6b29c3cdb6",
   "metadata": {},
   "outputs": [],
   "source": [
    "def norm_total(group):\n",
    "    group['normed_total']=group['total']/group['total'].sum()\n",
    "    return group\n",
    "\n",
    "results = count_subset.groupby('tz').apply(norm_total,include_groups=False)"
   ]
  },
  {
   "cell_type": "code",
   "execution_count": 132,
   "id": "4f554630-05ed-4871-9ca3-317510218209",
   "metadata": {},
   "outputs": [
    {
     "data": {
      "text/plain": [
       "<Axes: xlabel='normed_total', ylabel='tz'>"
      ]
     },
     "execution_count": 132,
     "metadata": {},
     "output_type": "execute_result"
    },
    {
     "data": {
      "image/png": "[encoded data removed]",
      "text/plain": [
       "<Figure size 640x480 with 1 Axes>"
      ]
     },
     "metadata": {},
     "output_type": "display_data"
    }
   ],
   "source": [
    "sns.barplot(x='normed_total',y='tz',hue='os',data=results)"
   ]
  },
  {
   "cell_type": "markdown",
   "id": "e60e29f6-5dca-49f1-bfc9-ac2a9ea42e6e",
   "metadata": {},
   "source": [
    "13.2"
   ]
  }
 ],
 "metadata": {
  "kernelspec": {
   "display_name": "Python 3 (ipykernel)",
   "language": "python",
   "name": "python3"
  },
  "language_info": {
   "codemirror_mode": {
    "name": "ipython",
    "version": 3
   },
   "file_extension": ".py",
   "mimetype": "text/x-python",
   "name": "python",
   "nbconvert_exporter": "python",
   "pygments_lexer": "ipython3",
   "version": "3.12.5"
  }
 },
 "nbformat": 4,
 "nbformat_minor": 5
}
